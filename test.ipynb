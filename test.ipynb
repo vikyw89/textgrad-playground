{
 "cells": [
  {
   "cell_type": "code",
   "execution_count": null,
   "metadata": {},
   "outputs": [
    {
     "ename": "",
     "evalue": "",
     "output_type": "error",
     "traceback": [
      "\u001b[1;31mRunning cells with 'textgrad-playground-_c0rqP9B-py3.12 (Python 3.12.3)' requires the ipykernel package.\n",
      "\u001b[1;31mRun the following command to install 'ipykernel' into the Python environment. \n",
      "\u001b[1;31mCommand: '/home/vikyw/.cache/pypoetry/virtualenvs/textgrad-playground-_c0rqP9B-py3.12/bin/python -m pip install ipykernel -U --force-reinstall'"
     ]
    }
   ],
   "source": [
    "import textgrad as tg"
   ]
  }
 ],
 "metadata": {
  "kernelspec": {
   "display_name": "textgrad-playground-_c0rqP9B-py3.12",
   "language": "python",
   "name": "python3"
  },
  "language_info": {
   "name": "python",
   "version": "3.12.3"
  }
 },
 "nbformat": 4,
 "nbformat_minor": 2
}
